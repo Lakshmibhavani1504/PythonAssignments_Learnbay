{
 "cells": [
  {
   "cell_type": "markdown",
   "id": "e919c31a",
   "metadata": {},
   "source": [
    "##### Q1 Declare a float value and store it in a variable.  Check the type and print the id of the same."
   ]
  },
  {
   "cell_type": "code",
   "execution_count": 1,
   "id": "9df6f002",
   "metadata": {},
   "outputs": [
    {
     "name": "stdout",
     "output_type": "stream",
     "text": [
      "<class 'float'>\n"
     ]
    }
   ],
   "source": [
    "num1=23.4\n",
    "print(type(num1))"
   ]
  },
  {
   "cell_type": "code",
   "execution_count": 3,
   "id": "242be2b8",
   "metadata": {},
   "outputs": [
    {
     "name": "stdout",
     "output_type": "stream",
     "text": [
      "1683643201008\n"
     ]
    }
   ],
   "source": [
    "print(id(num1))"
   ]
  },
  {
   "cell_type": "markdown",
   "id": "bf148081",
   "metadata": {},
   "source": [
    "##### Q2 Arithmetic Operations on float\n",
    "Take two different float values.\n",
    "Store them in two different variables.\n",
    "Do below operations on them:-\n",
    "Find sum of both numbers\n",
    "Find difference between them\n",
    "Find the product of both numbers.\n",
    "Find value after dividing first num with second number\n",
    "Find the remainder after dividing first number with second number\n",
    "Find the quotient after dividing first number with second number\n",
    "Find the result of the first num to the power of the second number."
   ]
  },
  {
   "cell_type": "code",
   "execution_count": 4,
   "id": "b1207557",
   "metadata": {},
   "outputs": [
    {
     "name": "stdout",
     "output_type": "stream",
     "text": [
      "30.5\n"
     ]
    }
   ],
   "source": [
    "num2=20.0\n",
    "num3=10.5\n",
    "print(num2+num3) #sum"
   ]
  },
  {
   "cell_type": "code",
   "execution_count": 5,
   "id": "daaaaa49",
   "metadata": {},
   "outputs": [
    {
     "name": "stdout",
     "output_type": "stream",
     "text": [
      "9.5\n"
     ]
    }
   ],
   "source": [
    "print(num2-num3) #difference"
   ]
  },
  {
   "cell_type": "code",
   "execution_count": 6,
   "id": "fca159fc",
   "metadata": {},
   "outputs": [
    {
     "name": "stdout",
     "output_type": "stream",
     "text": [
      "210.0\n"
     ]
    }
   ],
   "source": [
    "print(num2*num3) #multiplication"
   ]
  },
  {
   "cell_type": "code",
   "execution_count": 11,
   "id": "23d008b6",
   "metadata": {},
   "outputs": [
    {
     "name": "stdout",
     "output_type": "stream",
     "text": [
      "1.9047619047619047\n"
     ]
    }
   ],
   "source": [
    "print(num2/num3) #division"
   ]
  },
  {
   "cell_type": "code",
   "execution_count": 12,
   "id": "4a178a84",
   "metadata": {},
   "outputs": [
    {
     "name": "stdout",
     "output_type": "stream",
     "text": [
      "9.5\n"
     ]
    }
   ],
   "source": [
    "print(num2%num3) #remainder"
   ]
  },
  {
   "cell_type": "code",
   "execution_count": 13,
   "id": "3d7909f3",
   "metadata": {},
   "outputs": [
    {
     "name": "stdout",
     "output_type": "stream",
     "text": [
      "1.0\n"
     ]
    }
   ],
   "source": [
    "print(num2//num3) #quotient"
   ]
  },
  {
   "cell_type": "code",
   "execution_count": 14,
   "id": "26ff6946",
   "metadata": {},
   "outputs": [
    {
     "name": "stdout",
     "output_type": "stream",
     "text": [
      "45794672179195.695\n"
     ]
    }
   ],
   "source": [
    "print(num2**num3) #power"
   ]
  },
  {
   "cell_type": "markdown",
   "id": "d7708770",
   "metadata": {},
   "source": [
    "#### Q3 Comparison Operators on float\n",
    "Take two different float values.\n",
    "Store them in two different variables.\n",
    "Do below operations on them:-\n",
    "Compare these two numbers with below operator:-\n",
    "Greater than, '>'\n",
    "Smaller than, '<'\n",
    "Greater than or equal to, '>='\n",
    "Less than or equal to, '<='\n",
    "Observe their output(return type should be boolean)"
   ]
  },
  {
   "cell_type": "code",
   "execution_count": 15,
   "id": "bae39b6d",
   "metadata": {},
   "outputs": [
    {
     "name": "stdout",
     "output_type": "stream",
     "text": [
      "True\n"
     ]
    }
   ],
   "source": [
    "num4=5.2\n",
    "num5=3.1\n",
    "print(num4>num5) #greater than"
   ]
  },
  {
   "cell_type": "code",
   "execution_count": 16,
   "id": "9d670ccf",
   "metadata": {},
   "outputs": [
    {
     "name": "stdout",
     "output_type": "stream",
     "text": [
      "False\n"
     ]
    }
   ],
   "source": [
    "print(num4<num5)  #smaller than"
   ]
  },
  {
   "cell_type": "code",
   "execution_count": 17,
   "id": "a19ba84c",
   "metadata": {},
   "outputs": [
    {
     "name": "stdout",
     "output_type": "stream",
     "text": [
      "True\n"
     ]
    }
   ],
   "source": [
    "print(num4>=num5) #greater than or equal to"
   ]
  },
  {
   "cell_type": "code",
   "execution_count": 18,
   "id": "860fb855",
   "metadata": {},
   "outputs": [
    {
     "name": "stdout",
     "output_type": "stream",
     "text": [
      "False\n"
     ]
    }
   ],
   "source": [
    "print(num4<=num5) #lesser than or equal to"
   ]
  },
  {
   "cell_type": "markdown",
   "id": "881567c5",
   "metadata": {},
   "source": [
    "#### Q4. Equality Operator\n",
    "Take two different float values.\n",
    "Store them in two different variables.\n",
    "Equate them using equality operators (==, !=)\n",
    "Observe the output(return type should be boolean)"
   ]
  },
  {
   "cell_type": "code",
   "execution_count": 19,
   "id": "bc067388",
   "metadata": {},
   "outputs": [
    {
     "name": "stdout",
     "output_type": "stream",
     "text": [
      "False\n"
     ]
    }
   ],
   "source": [
    "num6=10.00\n",
    "num7=20.00\n",
    "print(num6==num7) #equality operator =="
   ]
  },
  {
   "cell_type": "code",
   "execution_count": 20,
   "id": "80c9ce57",
   "metadata": {},
   "outputs": [
    {
     "name": "stdout",
     "output_type": "stream",
     "text": [
      "True\n"
     ]
    }
   ],
   "source": [
    "print(num6!=num7) #equality operator !="
   ]
  },
  {
   "cell_type": "markdown",
   "id": "3fde88c6",
   "metadata": {},
   "source": [
    "##### Q5 Logical operators\n",
    "Observe the output of below code\n",
    "Cross check the output manually\n",
    "\n"
   ]
  },
  {
   "cell_type": "code",
   "execution_count": 23,
   "id": "7ca3230b",
   "metadata": {},
   "outputs": [
    {
     "name": "stdout",
     "output_type": "stream",
     "text": [
      "20.3\n",
      "0.0\n"
     ]
    }
   ],
   "source": [
    "print(10.20 and 20.30) #both are true and second value taken Output is 20.3\n",
    "print(0.0 and 20.30) #First is false so first value taken->Output is 0.0"
   ]
  },
  {
   "cell_type": "code",
   "execution_count": 22,
   "id": "db526e7b",
   "metadata": {},
   "outputs": [
    {
     "name": "stdout",
     "output_type": "stream",
     "text": [
      "0.0\n",
      "0.0\n",
      "10.2\n",
      "20.3\n",
      "20.3\n",
      "0.0\n",
      "False\n",
      "True\n"
     ]
    }
   ],
   "source": [
    "\n",
    "print(20.30 and 0.0) #Goes to till second and second value is false so second is taken>Output is 0.0\n",
    "print(0.0 and 0.0) #First is false so first value is taken->Output is 0.0\n",
    "print(10.20 or 20.30) #First is True so first value is taken>Output is 10.2\n",
    "print(0.0 or 20.30) #Goes to till second and second is true second value is taken->Output is 20.3\n",
    "print(20.30 or 0.0) #First is True so first value is taken->Output is 20.3\n",
    "print(0.0 or 0.0) #Goes to till second and second is also false and second value is taken>Output is 0.0\n",
    "print(not 10.20) #-Not of true is false->Output is False\n",
    "print(not 0.0) #Not of false is True>Output is True"
   ]
  },
  {
   "cell_type": "markdown",
   "id": "1d94372d",
   "metadata": {},
   "source": [
    "##### Q6 What is the output of expression inside print statement. Cross check before running the program."
   ]
  },
  {
   "cell_type": "code",
   "execution_count": 27,
   "id": "2b4c7772",
   "metadata": {},
   "outputs": [
    {
     "name": "stdout",
     "output_type": "stream",
     "text": [
      "False\n",
      "True\n"
     ]
    }
   ],
   "source": [
    "a = 10.20\n",
    "b = 10.20\n",
    "print(a is b) #True or False? False \n",
    "print(a is not b) #True or False? True\n",
    "\n",
    "## my ansswer: Id of float values are different when the same value is assigned to two different variables because interning does not apply to float numbers"
   ]
  },
  {
   "cell_type": "markdown",
   "id": "d99f4ca1",
   "metadata": {},
   "source": [
    "#### Q7. Bitwise operation is not applicable between instances of float.\n",
    "Why the Id of float values are different when the same value is\n",
    "assigned to two different variables\n",
    "ex: a = 10.5 b=10.5. but id will be same if I assign the variable\n",
    "having float i.e. a=c then both a and c's Id are same\n",
    "Object reusability concept is not applicable on float values."
   ]
  },
  {
   "cell_type": "markdown",
   "id": "c9bfa48b",
   "metadata": {},
   "source": [
    "##### Q8  Membership operation in, not in are two membership operators and it returns boolean value\n"
   ]
  },
  {
   "cell_type": "code",
   "execution_count": 28,
   "id": "336525a6",
   "metadata": {},
   "outputs": [
    {
     "name": "stdout",
     "output_type": "stream",
     "text": [
      "True\n",
      "True\n",
      "True\n",
      "True\n",
      "True\n",
      "True\n"
     ]
    }
   ],
   "source": [
    "print('2.7' in 'Python2.7.8') #True\n",
    "print(10.20 in [10,10.20,10+20j,'Python']) #True\n",
    "print(10.20 in (10,10.20,10+20j,'Python')) # True\n",
    "print(20.30 in {1,20.30,30+40j}) # True\n",
    "print(2.3 in {1:100, 2.3:200, 30+40j:300}) # True\n",
    "print(10 in range(20)) # True"
   ]
  },
  {
   "cell_type": "code",
   "execution_count": null,
   "id": "97bc3203",
   "metadata": {},
   "outputs": [],
   "source": []
  }
 ],
 "metadata": {
  "kernelspec": {
   "display_name": "Python 3 (ipykernel)",
   "language": "python",
   "name": "python3"
  },
  "language_info": {
   "codemirror_mode": {
    "name": "ipython",
    "version": 3
   },
   "file_extension": ".py",
   "mimetype": "text/x-python",
   "name": "python",
   "nbconvert_exporter": "python",
   "pygments_lexer": "ipython3",
   "version": "3.9.13"
  }
 },
 "nbformat": 4,
 "nbformat_minor": 5
}
