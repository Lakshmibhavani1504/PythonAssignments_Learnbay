{
 "cells": [
  {
   "cell_type": "code",
   "execution_count": 1,
   "id": "1b6da666",
   "metadata": {},
   "outputs": [],
   "source": [
    "# Q. W. A P. to implement calculator but the operation to be done and two\n",
    "# numbers will be taken as input from user:-\n",
    "# Operation console should show below:-\n",
    "# Please select any one operation from below:-\n",
    "# * To add enter 1\n",
    "# * to subtract enter 2\n",
    "# * To multiply enter 3\n",
    "# * To divide enter 4\n",
    "# * To divide and find quotient enter 5\n",
    "# * To divide and find remainder enter 6\n",
    "# * To divide and find num1 to the power of num2 enter 7\n",
    "# # * To Come out of the program enter 8"
   ]
  },
  {
   "cell_type": "code",
   "execution_count": 28,
   "id": "ebcbecc3",
   "metadata": {},
   "outputs": [
    {
     "name": "stdout",
     "output_type": "stream",
     "text": [
      "Welcome to Calculator\n",
      "Please select any one operation from below:-\n",
      "      * To add enter 1\n",
      "      * to subtract enter 2\n",
      "      * To multiply enter 3\n",
      "      * To divide enter 4\n",
      "      * To divide and find quotient enter 5\n",
      "      * To divide and find remainder enter 6\n",
      "      * To divide and find num1 to the power of num2 enter 7\n",
      "      * To Come out of the program enter 8\n",
      "Select one of the options from the above list: 8\n",
      "You have selected option 8\n",
      "You are out of program\n"
     ]
    }
   ],
   "source": [
    "print(\"Welcome to Calculator\")\n",
    "print(\"\"\"Please select any one operation from below:-\n",
    "      * To add enter 1\n",
    "      * to subtract enter 2\n",
    "      * To multiply enter 3\n",
    "      * To divide enter 4\n",
    "      * To divide and find quotient enter 5\n",
    "      * To divide and find remainder enter 6\n",
    "      * To divide and find num1 to the power of num2 enter 7\n",
    "      * To Come out of the program enter 8\"\"\")\n",
    "\n",
    "user_input=int(input(\"Select one of the options from the above list: \"))\n",
    "print(f\"You have selected option {user_input}\")\n",
    "\n",
    "if user_input!=8:\n",
    "    user_num1= int(input(\"Enter the first number or operand to do the required operation: \"))\n",
    "    user_num2= int(input(\"Enter the second number or operand to do the required operation: \"))\n",
    "else:\n",
    "    print(\"You are exited out of program\")\n",
    "\n",
    "if user_input==1:\n",
    "    print(\"Addition of 2 given numbers is: \", user_num1+user_num2)\n",
    "elif user_input==2:\n",
    "    print(\"Subtraction of 2 given numbers is: \", user_num1-user_num2)\n",
    "elif user_input==3:\n",
    "    print(\"Product of 2 given numbers is: \", user_num1*user_num2)\n",
    "elif user_input==4:\n",
    "    print(\"Division of 2 given numbers is: \", user_num1/user_num2)\n",
    "elif user_input==5:\n",
    "    print(\"Quotient of 2 given numbers is: \",user_num1//user_num2)\n",
    "elif user_input==6:\n",
    "    print(\"Remainder of 2 given numbers is: \", user_num1%user_num2)\n",
    "elif user_input==7:\n",
    "    print(\"Power of 2 given numbers is: \", user_num1**user_num2)\n",
    "    "
   ]
  },
  {
   "cell_type": "code",
   "execution_count": 29,
   "id": "781c03dc",
   "metadata": {},
   "outputs": [],
   "source": [
    "# W A P to check whether a year entered by user is an leap year or not?\n",
    "# Check with below input:-\n",
    "# leap year:- 2012, 1968, 2004, 1200, 1600,2400\n",
    "# Non-lear year:- 1971, 2006, 1700,1800,1900"
   ]
  },
  {
   "cell_type": "code",
   "execution_count": 61,
   "id": "f1f419b1",
   "metadata": {},
   "outputs": [
    {
     "name": "stdout",
     "output_type": "stream",
     "text": [
      "Enter the year to find if it is leap year or not1900\n",
      "Entered year is not leap year\n"
     ]
    }
   ],
   "source": [
    "year_value = int(input(\"Enter the year to find if it is leap year or not\"))\n",
    "if (year_value %4==0 and year_value%100!=0)or year_value %400==0:\n",
    "    print(\"Entered year is leap year\")\n",
    "else:\n",
    "    print(\"Entered year is not leap year\")"
   ]
  },
  {
   "cell_type": "code",
   "execution_count": null,
   "id": "f56a3b39",
   "metadata": {},
   "outputs": [],
   "source": [
    "# Q. W A P which takes one number from the user and checks whether it is\n",
    "# an even or odd number?, If it even then prints number is\n",
    "# even number else prints that number is odd number."
   ]
  },
  {
   "cell_type": "code",
   "execution_count": 6,
   "id": "c77cb5ec",
   "metadata": {},
   "outputs": [
    {
     "name": "stdout",
     "output_type": "stream",
     "text": [
      "Enter the number to find if it is odd or even52\n",
      "52 is even\n"
     ]
    }
   ],
   "source": [
    "evenodd=int(input(\"Enter the number to find if it is odd or even\"))\n",
    "if evenodd==0:\n",
    "    print(\"Zero is neither odd or even number\")\n",
    "elif evenodd%2==0:\n",
    "    print(f\"{evenodd} is even\")\n",
    "else:\n",
    "    print(f\"{evenodd} is odd\")"
   ]
  },
  {
   "cell_type": "code",
   "execution_count": 7,
   "id": "d827a32a",
   "metadata": {},
   "outputs": [],
   "source": [
    "# Q. W A P which takes two numbers from the user and prints below output:-\n",
    "# 1. num1 is greater than num2 if num1 is greater than num2\n",
    "# 2. num1 is smaller than num2 if num1 is smaller than num2\n",
    "# 3. num1 is equal to num2 if num1 and num2 are equal\n",
    "# Note:- 1. Do this problem using if - else\n",
    "# 2. Do this using ternary operator"
   ]
  },
  {
   "cell_type": "code",
   "execution_count": 14,
   "id": "2e3360b5",
   "metadata": {},
   "outputs": [
    {
     "name": "stdout",
     "output_type": "stream",
     "text": [
      "Enter 2 numbers split by space120 100\n",
      "120 is greater than 100\n"
     ]
    }
   ],
   "source": [
    "# using if else logic\n",
    "\n",
    "num1,num2=(int(x) for x in input(\"Enter 2 numbers split by space\").split())\n",
    "if num1>num2:\n",
    "    print(f\"{num1} is greater than {num2}\")\n",
    "elif num1<num2:\n",
    "    print(f\"{num1} is smaller than {num2}\")\n",
    "else:\n",
    "    print(f\"{num1} is equal to {num2}\")\n"
   ]
  },
  {
   "cell_type": "code",
   "execution_count": 40,
   "id": "8de11476",
   "metadata": {},
   "outputs": [
    {
     "name": "stdout",
     "output_type": "stream",
     "text": [
      "Enter 2 numbers split by space: -8 -1\n",
      "-8 is smaller than -1\n"
     ]
    }
   ],
   "source": [
    "#using ternary operator\n",
    "\n",
    "num3,num4=(int(x) for x in input(\"Enter 2 numbers split by space: \").split())\n",
    "mx=(print(f\"{num3} is greater than {num4}\") if num3>num4 else \n",
    "(print(f\"{num3} is equal to {num4}\") if num3==num4 else print(f\"{num3} is smaller than {num4}\")))\n"
   ]
  },
  {
   "cell_type": "code",
   "execution_count": 41,
   "id": "68d4a708",
   "metadata": {},
   "outputs": [],
   "source": [
    "# Q. W A P which takes three numbers from the user and prints below\n",
    "# output:-\n",
    "# 1. num1 is greater than num2 and num3 if num1 is greater than num2\n",
    "# and num3\n",
    "# 2. num2 is greater than num1 and num3 if num2 is greater than num1\n",
    "# and num3\n",
    "\n",
    "# 3. num3 is greater than num1 and num2 if num3 is greater than num1\n",
    "# and num2\n",
    "# Note:- 1. Do this problem using if - elif - else\n",
    "# 2. Do this using ternary operator"
   ]
  },
  {
   "cell_type": "code",
   "execution_count": 44,
   "id": "939a1520",
   "metadata": {},
   "outputs": [
    {
     "name": "stdout",
     "output_type": "stream",
     "text": [
      "Enter 3 numbers split by space: 3 6 1\n",
      "6 is greater than 3 and 1\n"
     ]
    }
   ],
   "source": [
    "#Do this problem using if - elif - else\n",
    "\n",
    "num1,num2, num3=(int(x) for x in input(\"Enter 3 numbers split by space: \").split())\n",
    "if (num1>num2) and (num1>num3):\n",
    "    print(f\"{num1} is greater than {num2} and {num3}\")\n",
    "elif (num2>num1) and (num2>num3):\n",
    "    print(f\"{num2} is greater than {num1} and {num3}\")\n",
    "else:\n",
    "    print(f\"{num3} is greater than {num1} and {num2}\")"
   ]
  },
  {
   "cell_type": "code",
   "execution_count": 49,
   "id": "f335182d",
   "metadata": {},
   "outputs": [
    {
     "name": "stdout",
     "output_type": "stream",
     "text": [
      "Enter 3 numbers split by space: 1 3 8\n",
      "8 is greater than 1 and 3\n"
     ]
    }
   ],
   "source": [
    " # Do this using ternary operator\n",
    "    \n",
    "num1,num2, num3=(int(x) for x in input(\"Enter 3 numbers split by space: \").split())\n",
    "mn=(print(f\"{num1} is greater than {num2} and {num3}\") if (num1>num2 and num1>num3) else \n",
    "(print(f\"{num2} is greater than {num1} and {num3}\") if (num2>num1 and num2>num3) else\n",
    " print(f\"{num3} is greater than {num1} and {num2}\")))"
   ]
  },
  {
   "cell_type": "markdown",
   "id": "d106073f",
   "metadata": {},
   "source": [
    "<!-- Q. W. A P. which takes one number from 0 to 9 from the user and prints\n",
    "it in the word. And if the word is not from 0 to 9 then\n",
    "it should print that number is outside of the range and program should\n",
    "exit.\n",
    "For exapmple:-\n",
    "input = 1\n",
    "output = one -->"
   ]
  },
  {
   "cell_type": "code",
   "execution_count": 51,
   "id": "8d0af06e",
   "metadata": {},
   "outputs": [],
   "source": [
    "# W. A P. which takes one number from 0 to 9 from the user and prints\n",
    "# it in the word. And if the word is not from 0 to 9 then\n",
    "# it should print that number is outside of the range and program should\n",
    "# exit.\n",
    "# For exapmple:-\n",
    "# input = 1\n",
    "# output = one"
   ]
  },
  {
   "cell_type": "code",
   "execution_count": 62,
   "id": "2d080fb3",
   "metadata": {},
   "outputs": [
    {
     "name": "stdout",
     "output_type": "stream",
     "text": [
      "Enter any one number between 0 to 9: 5\n",
      "five\n"
     ]
    }
   ],
   "source": [
    "input_entry=int(input(\"Enter any one number between 0 to 9: \"))\n",
    "word={1:\"one\",2:\"two\",3:\"three\",4:\"four\",5:\"five\",6:\"six\",7:\"seven\",8:\"eight\",9:\"nine\"}\n",
    "if input_entry in word:\n",
    "    print(word[input_entry])\n",
    "else:\n",
    "    print(\"Number is outside the range\")"
   ]
  },
  {
   "cell_type": "code",
   "execution_count": null,
   "id": "3a88a7df",
   "metadata": {},
   "outputs": [],
   "source": []
  }
 ],
 "metadata": {
  "kernelspec": {
   "display_name": "Python 3 (ipykernel)",
   "language": "python",
   "name": "python3"
  },
  "language_info": {
   "codemirror_mode": {
    "name": "ipython",
    "version": 3
   },
   "file_extension": ".py",
   "mimetype": "text/x-python",
   "name": "python",
   "nbconvert_exporter": "python",
   "pygments_lexer": "ipython3",
   "version": "3.9.13"
  }
 },
 "nbformat": 4,
 "nbformat_minor": 5
}
