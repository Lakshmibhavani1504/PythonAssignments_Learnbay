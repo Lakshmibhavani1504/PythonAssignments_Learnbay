{
 "cells": [
  {
   "cell_type": "markdown",
   "id": "8e58c81b",
   "metadata": {},
   "source": [
    "#### Q1. Declare a boolean value and store it in a variable.\n",
    "Check the type and print the id of the same."
   ]
  },
  {
   "cell_type": "code",
   "execution_count": 3,
   "id": "878243fe",
   "metadata": {},
   "outputs": [
    {
     "name": "stdout",
     "output_type": "stream",
     "text": [
      "<class 'bool'> 140704452442216\n"
     ]
    }
   ],
   "source": [
    "value=True\n",
    "print(type(value), id(value))"
   ]
  },
  {
   "cell_type": "markdown",
   "id": "065b9b14",
   "metadata": {},
   "source": [
    "#### Q2 Take one boolean value between 0 - 256.\n",
    "Assign it to two different variables.\n",
    "Check the id of both the variables. It should come the same. Check why?"
   ]
  },
  {
   "cell_type": "code",
   "execution_count": 52,
   "id": "fa725e83",
   "metadata": {},
   "outputs": [
    {
     "name": "stdout",
     "output_type": "stream",
     "text": [
      "140704452442216 140704452442216\n"
     ]
    }
   ],
   "source": [
    "var1=bool(20)\n",
    "var2=bool(20)\n",
    "print(id(var1),id(var2)) # Memory is same because boolean values is interned"
   ]
  },
  {
   "cell_type": "markdown",
   "id": "036b28bb",
   "metadata": {},
   "source": [
    "#### Q3 Arithmetic Operations on boolean data\n",
    "Take two different boolean values.\n",
    "Store them in two different variables.\n",
    "Do below operations on them:-\n",
    "Find sum of both values\n",
    "Find difference between them\n",
    "Find the product of both.\n",
    "Find value after dividing first value with second value\n",
    "Find the remainder after dividing first value with second value\n",
    "Find the quotient after dividing first value with second value\n",
    "Find the result of first value to the power of second value."
   ]
  },
  {
   "cell_type": "code",
   "execution_count": 12,
   "id": "45d7bf97",
   "metadata": {},
   "outputs": [
    {
     "name": "stdout",
     "output_type": "stream",
     "text": [
      "1\n"
     ]
    }
   ],
   "source": [
    "value1=False\n",
    "value2=True\n",
    "print(value1+value2) #sum (0+1)"
   ]
  },
  {
   "cell_type": "code",
   "execution_count": 13,
   "id": "03d852aa",
   "metadata": {},
   "outputs": [
    {
     "name": "stdout",
     "output_type": "stream",
     "text": [
      "-1\n"
     ]
    }
   ],
   "source": [
    "print(value1-value2) #difference(0-1)"
   ]
  },
  {
   "cell_type": "code",
   "execution_count": 14,
   "id": "b02ff2ff",
   "metadata": {},
   "outputs": [
    {
     "name": "stdout",
     "output_type": "stream",
     "text": [
      "0\n"
     ]
    }
   ],
   "source": [
    "print(value1*value2) #Product(0*1)"
   ]
  },
  {
   "cell_type": "code",
   "execution_count": 15,
   "id": "8e822915",
   "metadata": {},
   "outputs": [
    {
     "name": "stdout",
     "output_type": "stream",
     "text": [
      "0.0\n"
     ]
    }
   ],
   "source": [
    "print(value1/value2) #Division(0/1)"
   ]
  },
  {
   "cell_type": "code",
   "execution_count": 16,
   "id": "331e883d",
   "metadata": {},
   "outputs": [
    {
     "name": "stdout",
     "output_type": "stream",
     "text": [
      "0\n"
     ]
    }
   ],
   "source": [
    "print(value1%value2) #Remainder(0%1)"
   ]
  },
  {
   "cell_type": "code",
   "execution_count": 17,
   "id": "ee503ed5",
   "metadata": {},
   "outputs": [
    {
     "name": "stdout",
     "output_type": "stream",
     "text": [
      "0\n"
     ]
    }
   ],
   "source": [
    "print(value1//value2) #quotient(0//1)"
   ]
  },
  {
   "cell_type": "code",
   "execution_count": 18,
   "id": "8ff387ac",
   "metadata": {},
   "outputs": [
    {
     "name": "stdout",
     "output_type": "stream",
     "text": [
      "0\n"
     ]
    }
   ],
   "source": [
    "print(value1**value2) #power(0**1)"
   ]
  },
  {
   "cell_type": "markdown",
   "id": "f98b6485",
   "metadata": {},
   "source": [
    "#### Q4 Comparison Operators on boolean values\n",
    "Take two different boolean values.\n",
    "Store them in two different variables.\n",
    "Do below operations on them:-\n",
    "Compare these two values with below operator:-\n",
    "Greater than, '>'\n",
    "less than, '<'\n",
    "Greater than or equal to, '>='\n",
    "Less than or equal to, '<='\n",
    "Observe their output(return type should be boolean)"
   ]
  },
  {
   "cell_type": "code",
   "execution_count": 19,
   "id": "b869cb5b",
   "metadata": {},
   "outputs": [
    {
     "name": "stdout",
     "output_type": "stream",
     "text": [
      "True\n"
     ]
    }
   ],
   "source": [
    "value3=True\n",
    "value4=False\n",
    "print(value3>value4) #1>0"
   ]
  },
  {
   "cell_type": "code",
   "execution_count": 20,
   "id": "0d1f0198",
   "metadata": {},
   "outputs": [
    {
     "name": "stdout",
     "output_type": "stream",
     "text": [
      "False\n"
     ]
    }
   ],
   "source": [
    "print(value3<value4) #1<0"
   ]
  },
  {
   "cell_type": "code",
   "execution_count": 21,
   "id": "81b2082e",
   "metadata": {},
   "outputs": [
    {
     "name": "stdout",
     "output_type": "stream",
     "text": [
      "True\n"
     ]
    }
   ],
   "source": [
    "print(value3>=value4) #1>=0"
   ]
  },
  {
   "cell_type": "code",
   "execution_count": 22,
   "id": "f61a3033",
   "metadata": {},
   "outputs": [
    {
     "name": "stdout",
     "output_type": "stream",
     "text": [
      "False\n"
     ]
    }
   ],
   "source": [
    "print(value3<=value4) #1<=0"
   ]
  },
  {
   "cell_type": "markdown",
   "id": "18ab5234",
   "metadata": {},
   "source": [
    "#### Q5 Equality Operator\n",
    "Take two different boolean values.\n",
    "Store them in two different variables.\n",
    "Equate them using equality operators (==, !=)\n",
    "Observe the output(return type should be boolean)"
   ]
  },
  {
   "cell_type": "code",
   "execution_count": 24,
   "id": "cbdee7e7",
   "metadata": {},
   "outputs": [
    {
     "name": "stdout",
     "output_type": "stream",
     "text": [
      "False\n"
     ]
    }
   ],
   "source": [
    "value5=True\n",
    "value6=False\n",
    "print(value5==value6) #1==0"
   ]
  },
  {
   "cell_type": "code",
   "execution_count": 25,
   "id": "98f15302",
   "metadata": {},
   "outputs": [
    {
     "name": "stdout",
     "output_type": "stream",
     "text": [
      "True\n"
     ]
    }
   ],
   "source": [
    "print(value5!=value6)  #1!=0"
   ]
  },
  {
   "cell_type": "markdown",
   "id": "a8b4fd87",
   "metadata": {},
   "source": [
    "#### Q6 Logical operators\n",
    "Observe the output of below code\n",
    "Cross check the output manually"
   ]
  },
  {
   "cell_type": "code",
   "execution_count": 26,
   "id": "0cd3c77b",
   "metadata": {},
   "outputs": [
    {
     "name": "stdout",
     "output_type": "stream",
     "text": [
      "True\n",
      "False\n",
      "False\n",
      "False\n",
      "True\n",
      "True\n",
      "True\n",
      "False\n",
      "False\n",
      "True\n"
     ]
    }
   ],
   "source": [
    "print(True and True)\n",
    "#----------------------------------------->Output is True\n",
    "\n",
    "print(False and True)\n",
    "#----------------------------------------->Output is False\n",
    "print(True and False)\n",
    "#----------------------------------------->Output is False\n",
    "print(False and False)\n",
    "#----------------------------------------->Output is False\n",
    "print(True or True)\n",
    "#----------------------------------------->Output is True\n",
    "print(False or True)\n",
    "#----------------------------------------->Output is True\n",
    "print(True or False)\n",
    "#----------------------------------------->Output is True\n",
    "print(False or False)\n",
    "#----------------------------------------->Output is False\n",
    "print(not True)\n",
    "#----------------------------------------->Output is False\n",
    "print(not False)\n",
    "#----------------------------------------->Output is True"
   ]
  },
  {
   "cell_type": "markdown",
   "id": "1a02dcba",
   "metadata": {},
   "source": [
    "#### Q7 Bitwise Operators\n",
    "Do below operations on the values provided below:-\n",
    "Bitwise and(&) --------------> True, True -------> Output is True\n",
    "Bitwise or(|) --------------> True, False -------> Output is True\n",
    "Bitwise(^) --------------> True, False -------> Output is True\n",
    "Bitwise negation(~) ---------> True -------> Output is -2\n",
    "Bitwise left shift ---------> True,2 -------> Output is 4\n",
    "Bitwise right shift ---------> True,2 -------> Output is 0\n",
    "Cross check the output manually"
   ]
  },
  {
   "cell_type": "code",
   "execution_count": 33,
   "id": "2210f8e3",
   "metadata": {},
   "outputs": [
    {
     "data": {
      "text/plain": [
       "True"
      ]
     },
     "execution_count": 33,
     "metadata": {},
     "output_type": "execute_result"
    }
   ],
   "source": [
    "True & True #ANd"
   ]
  },
  {
   "cell_type": "code",
   "execution_count": 28,
   "id": "299c04ef",
   "metadata": {},
   "outputs": [
    {
     "data": {
      "text/plain": [
       "True"
      ]
     },
     "execution_count": 28,
     "metadata": {},
     "output_type": "execute_result"
    }
   ],
   "source": [
    "True | False  #OR"
   ]
  },
  {
   "cell_type": "code",
   "execution_count": 34,
   "id": "c08b00d4",
   "metadata": {},
   "outputs": [
    {
     "data": {
      "text/plain": [
       "True"
      ]
     },
     "execution_count": 34,
     "metadata": {},
     "output_type": "execute_result"
    }
   ],
   "source": [
    "True ^ False  # Exor"
   ]
  },
  {
   "cell_type": "code",
   "execution_count": 35,
   "id": "b634778c",
   "metadata": {},
   "outputs": [
    {
     "data": {
      "text/plain": [
       "-2"
      ]
     },
     "execution_count": 35,
     "metadata": {},
     "output_type": "execute_result"
    }
   ],
   "source": [
    "~True #-(x+1) ----> -(1+1) ---> -2"
   ]
  },
  {
   "cell_type": "code",
   "execution_count": 36,
   "id": "fd048dec",
   "metadata": {},
   "outputs": [
    {
     "data": {
      "text/plain": [
       "4"
      ]
     },
     "execution_count": 36,
     "metadata": {},
     "output_type": "execute_result"
    }
   ],
   "source": [
    "True<<2  #bin(1) shift to 2 left places, right padded with zeros --> 100"
   ]
  },
  {
   "cell_type": "code",
   "execution_count": 37,
   "id": "299ef745",
   "metadata": {},
   "outputs": [
    {
     "data": {
      "text/plain": [
       "'0b1'"
      ]
     },
     "execution_count": 37,
     "metadata": {},
     "output_type": "execute_result"
    }
   ],
   "source": [
    "bin(1)"
   ]
  },
  {
   "cell_type": "code",
   "execution_count": 44,
   "id": "95b12062",
   "metadata": {},
   "outputs": [
    {
     "data": {
      "text/plain": [
       "4"
      ]
     },
     "execution_count": 44,
     "metadata": {},
     "output_type": "execute_result"
    }
   ],
   "source": [
    "0b100"
   ]
  },
  {
   "cell_type": "code",
   "execution_count": 46,
   "id": "dac3c042",
   "metadata": {},
   "outputs": [
    {
     "data": {
      "text/plain": [
       "0"
      ]
     },
     "execution_count": 46,
     "metadata": {},
     "output_type": "execute_result"
    }
   ],
   "source": [
    "True>>2    #bin(1) shift to 2 right places,digits removed -->0"
   ]
  },
  {
   "cell_type": "markdown",
   "id": "19568fcb",
   "metadata": {},
   "source": [
    "#### Q8 What is the output of expression inside the print statement. Cross check before running the program.\n"
   ]
  },
  {
   "cell_type": "code",
   "execution_count": 47,
   "id": "7f31a179",
   "metadata": {},
   "outputs": [
    {
     "name": "stdout",
     "output_type": "stream",
     "text": [
      "True\n",
      "False\n",
      "True\n",
      "False\n"
     ]
    }
   ],
   "source": [
    "a = True\n",
    "b = True\n",
    "print(a is b) #True or False? # True\n",
    "\n",
    "print(a is not b) #True or False? #false\n",
    "a = False\n",
    "b = False\n",
    "print(a is b) #True or False? #True\n",
    "print(a is not b) #True or False?  #False"
   ]
  },
  {
   "cell_type": "markdown",
   "id": "7e496004",
   "metadata": {},
   "source": [
    "#### Q9 Membership operation in, not in are two membership operators and it returns boolean value\n"
   ]
  },
  {
   "cell_type": "code",
   "execution_count": 48,
   "id": "6bbc7a1d",
   "metadata": {},
   "outputs": [
    {
     "name": "stdout",
     "output_type": "stream",
     "text": [
      "True\n",
      "True\n",
      "True\n",
      "True\n",
      "True\n"
     ]
    }
   ],
   "source": [
    "print(True in [10,10.20,10+20j,'Python', True])  #----> output is True\n",
    "print(False in (10,10.20,10+20j,'Python', False)) #----> output is True\n",
    "print(True in {1,2,3, True}) #----> output is True\n",
    "print(True in {True:100, False:200, True:300}) #----> output is True\n",
    "print(False in {True:100, False:200, True:300})#----> output is True"
   ]
  },
  {
   "cell_type": "code",
   "execution_count": null,
   "id": "03f5e38f",
   "metadata": {},
   "outputs": [],
   "source": []
  }
 ],
 "metadata": {
  "kernelspec": {
   "display_name": "Python 3 (ipykernel)",
   "language": "python",
   "name": "python3"
  },
  "language_info": {
   "codemirror_mode": {
    "name": "ipython",
    "version": 3
   },
   "file_extension": ".py",
   "mimetype": "text/x-python",
   "name": "python",
   "nbconvert_exporter": "python",
   "pygments_lexer": "ipython3",
   "version": "3.9.13"
  }
 },
 "nbformat": 4,
 "nbformat_minor": 5
}
