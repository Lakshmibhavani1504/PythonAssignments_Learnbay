{
 "cells": [
  {
   "cell_type": "code",
   "execution_count": 1,
   "id": "e82d06be",
   "metadata": {},
   "outputs": [],
   "source": [
    "# Q. Write a Python program to find the length of the my_str using loop:-\n",
    "# Input:- 'Write a Python program to find the length of the my_str'\n",
    "# Output:- 55"
   ]
  },
  {
   "cell_type": "code",
   "execution_count": 8,
   "id": "67e262ac",
   "metadata": {},
   "outputs": [
    {
     "name": "stdout",
     "output_type": "stream",
     "text": [
      "Length of the given string is  55\n"
     ]
    }
   ],
   "source": [
    "str_input=\"Write a Python program to find the length of the my_str\"\n",
    "s=0\n",
    "for eachchar in str_input:\n",
    "    s+=1\n",
    "print(\"Length of the given string is \", s)"
   ]
  },
  {
   "cell_type": "code",
   "execution_count": 9,
   "id": "d6a0784b",
   "metadata": {},
   "outputs": [],
   "source": [
    "# Q. Write a Python program to find the total number of times letter 'p'\n",
    "# is appeared in the below string using loop:-\n",
    "# Input:- 'peter piper picked a peck of pickled peppers.\\n'\n",
    "# Output:- 9"
   ]
  },
  {
   "cell_type": "code",
   "execution_count": 30,
   "id": "f1f4db39",
   "metadata": {},
   "outputs": [
    {
     "name": "stdout",
     "output_type": "stream",
     "text": [
      "Total number of times letter p is appeared in the given string is  9\n"
     ]
    }
   ],
   "source": [
    "str_input1='peter piper picked a peck of picked peppers.'\n",
    "s1=0\n",
    "for eachchar in str_input1:\n",
    "    if eachchar=='p':\n",
    "        s1+=1\n",
    "print(\"Total number of times letter p is appeared in the given string is \", s1)"
   ]
  },
  {
   "cell_type": "code",
   "execution_count": 31,
   "id": "ec36db35",
   "metadata": {},
   "outputs": [],
   "source": [
    "# Q. Write a Python Program, to print all the indexes of all occurences of\n",
    "# letter 'p' appeared in the string using loop:-\n",
    "# Input:- 'peter piper picked a peck of pickled peppers.'\n",
    "# Output:-\n",
    "# 0\n",
    "# 6\n",
    "# 8\n",
    "# 12\n",
    "# 21\n",
    "# 29\n",
    "# 37\n",
    "# 39\n",
    "# 40"
   ]
  },
  {
   "cell_type": "code",
   "execution_count": 36,
   "id": "cca765c9",
   "metadata": {},
   "outputs": [
    {
     "name": "stdout",
     "output_type": "stream",
     "text": [
      "[0, 6, 8, 12, 21, 29, 37, 39, 40]\n"
     ]
    }
   ],
   "source": [
    "my_str1='peter piper picked a peck of pickled peppers.'\n",
    "output=[]\n",
    "output=[i for i in range(len(my_str1))\n",
    "       if my_str1 [i]==('p')]\n",
    "print(output)"
   ]
  },
  {
   "cell_type": "code",
   "execution_count": 56,
   "id": "70635aa3",
   "metadata": {},
   "outputs": [],
   "source": [
    "# Q. Write a python program to find below output using loop:-\n",
    "# Input:- 'peter piper picked a peck of pickled peppers.'\n",
    "# Output:- ['peter', 'piper', 'picked', 'a', 'peck', 'of', 'pickled',\n",
    "# 'peppers']"
   ]
  },
  {
   "cell_type": "code",
   "execution_count": 58,
   "id": "2a97cd08",
   "metadata": {},
   "outputs": [
    {
     "name": "stdout",
     "output_type": "stream",
     "text": [
      "['peter', 'piper', 'picked', 'a', 'peck', 'of', 'pickled', 'peppers.']\n"
     ]
    }
   ],
   "source": [
    "str_input= [x for x in ('peter piper picked a peck of pickled peppers.').split()]\n",
    "print(str_input)"
   ]
  },
  {
   "cell_type": "code",
   "execution_count": 67,
   "id": "1004c07b",
   "metadata": {},
   "outputs": [],
   "source": [
    "# Q. Write a python program to find below output using loop:-\n",
    "# Input:- 'peter piper picked a peck of pickled peppers.'\n",
    "# Output:- 'retep repip dekcip a kcep fo delkcip sreppep'"
   ]
  },
  {
   "cell_type": "code",
   "execution_count": 187,
   "id": "cb8911c7",
   "metadata": {},
   "outputs": [
    {
     "name": "stdout",
     "output_type": "stream",
     "text": [
      " retep repip dekcip a kcep fo delkcip sreppep\n"
     ]
    }
   ],
   "source": [
    "str_input='peter piper picked a peck of pickled peppers'\n",
    "str_input1=str_input.split()\n",
    "newstr=''\n",
    "for eachstr in str_input1:\n",
    "    newstr1=eachstr[::-1]\n",
    "    newstr=newstr+\" \"+newstr1\n",
    "print(newstr)\n"
   ]
  },
  {
   "cell_type": "code",
   "execution_count": 68,
   "id": "50a1cf47",
   "metadata": {},
   "outputs": [],
   "source": [
    "# Q. Write a python program to find below output using loop:-\n",
    "# Input:- 'peter piper picked a peck of pickled peppers.'\n",
    "# Output:- 'peppers pickled of peck a picked piper peter'"
   ]
  },
  {
   "cell_type": "code",
   "execution_count": 186,
   "id": "47416ae3",
   "metadata": {},
   "outputs": [
    {
     "name": "stdout",
     "output_type": "stream",
     "text": [
      " peppers pickled of peck a picked piper peter\n"
     ]
    }
   ],
   "source": [
    "str_input='peter piper picked a peck of pickled peppers'\n",
    "str_input1=str_input.split()\n",
    "str_input2=str_input1[::-1]\n",
    "str_input3=\"\"\n",
    "for eachstr in str_input2:\n",
    "    str_input3=str_input3+\" \"+eachstr\n",
    "    \n",
    "print(str_input3)"
   ]
  },
  {
   "cell_type": "code",
   "execution_count": 82,
   "id": "a088dd02",
   "metadata": {},
   "outputs": [],
   "source": [
    "# Q. Write a python program to find below output using loop:-\n",
    "# Input:- 'peter piper picked a peck of pickled peppers.'\n",
    "# Output:- '.sreppep delkcip fo kcep a dekcip repip retep'"
   ]
  },
  {
   "cell_type": "code",
   "execution_count": 146,
   "id": "36cfa493",
   "metadata": {},
   "outputs": [
    {
     "name": "stdout",
     "output_type": "stream",
     "text": [
      " .sreppep delkcip fo kcep a dekcip repip retep\n"
     ]
    }
   ],
   "source": [
    "str_input=[x for x in ('peter piper picked a peck of pickled peppers.').split()]\n",
    "str_input1=str_input[::-1]\n",
    "\n",
    "str_input2=\"\"\n",
    "for eachel in str_input1:\n",
    "    str_input2=str_input2+\" \"+eachel\n",
    "\n",
    "str_input3=str_input2.split()\n",
    "str_input4=\"\"\n",
    "for eachstring in str_input3:\n",
    "    str_input4=str_input4+\" \" +eachstring[::-1]\n",
    "\n",
    "print(str_input4)\n"
   ]
  },
  {
   "cell_type": "code",
   "execution_count": 83,
   "id": "0f7d36f2",
   "metadata": {},
   "outputs": [],
   "source": [
    "# Q. Write a python program to find below output using loop:-\n",
    "# Input:- 'peter piper picked a peck of pickled peppers.'\n",
    "# Output:- 'Peter Piper Picked A Peck Of Pickled Peppers'"
   ]
  },
  {
   "cell_type": "code",
   "execution_count": 205,
   "id": "e90d1c24",
   "metadata": {},
   "outputs": [
    {
     "name": "stdout",
     "output_type": "stream",
     "text": [
      " Peter Piper Picked A Peck Of Pickled Peppers.\n"
     ]
    }
   ],
   "source": [
    "inputstr='peter piper picked a peck of pickled peppers.'.split()\n",
    "newstr=\"\"\n",
    "for eachword in inputstr:\n",
    "    if eachword.islower():\n",
    "        newstr=newstr+\" \"+eachword.title()\n",
    "print(newstr)"
   ]
  },
  {
   "cell_type": "code",
   "execution_count": 84,
   "id": "1e0f588b",
   "metadata": {},
   "outputs": [],
   "source": [
    "# Q. Write a python program to find below output using loop:-\n",
    "# Input:- 'Peter Piper Picked A Peck Of Pickled Peppers.'\n",
    "# Output:- 'Peter piper picked a peck of pickled peppers'"
   ]
  },
  {
   "cell_type": "code",
   "execution_count": 290,
   "id": "570d7914",
   "metadata": {},
   "outputs": [
    {
     "name": "stdout",
     "output_type": "stream",
     "text": [
      "Peter piper picked a peck of pickled peppers.\n"
     ]
    }
   ],
   "source": [
    "inputstr='Peter Piper Picked A Peck Of Pickled Peppers.'.split() \n",
    "newstr=\"\"\n",
    "for eachword in inputstr[:1]:\n",
    "    newstr=eachword\n",
    "for eachword in inputstr[1:]:\n",
    "    if eachword[0].isupper():\n",
    "        newstr=newstr+\" \"+eachword.lower()\n",
    "print(newstr)\n"
   ]
  },
  {
   "cell_type": "code",
   "execution_count": 292,
   "id": "35754c15",
   "metadata": {},
   "outputs": [],
   "source": [
    "# Q. Write a python program to implement index method using loop. If\n",
    "# sub_str is found in my_str then it will print the index\n",
    "# of first occurrence of first character of matching string in my_str:-\n",
    "# Input:- my_str = 'Peter Piper Picked A Peck Of Pickled Peppers.',\n",
    "# sub_str = 'Pickl'\n",
    "# Output:- 29"
   ]
  },
  {
   "cell_type": "code",
   "execution_count": 33,
   "id": "842050bb",
   "metadata": {},
   "outputs": [
    {
     "name": "stdout",
     "output_type": "stream",
     "text": [
      "Enter substring: Pickl\n",
      "[29]\n"
     ]
    }
   ],
   "source": [
    "my_str='Peter Piper Picked A Peck Of Pickled Peppers.'\n",
    "sub_str=input(\"Enter substring: \")\n",
    "output=[]\n",
    "\n",
    "if sub_str in my_str:\n",
    "    \n",
    "    output=[i for i in range(len(my_str))\n",
    "            if my_str.startswith(sub_str,i)]\n",
    "    print(output)\n",
    "else:\n",
    "    print(\"Sub string not found\")\n"
   ]
  },
  {
   "cell_type": "code",
   "execution_count": 86,
   "id": "bb5d1316",
   "metadata": {},
   "outputs": [],
   "source": [
    "# Q. Write a python program to implement replace method using loop. If\n",
    "# sub_str is found in my_str then it will replace the first\n",
    "# occurrence of sub_str with new_str else it will will print sub_str not\n",
    "# found:-\n",
    "# Input:- my_str = 'Peter Piper Picked A Peck Of Pickled Peppers.',\n",
    "# sub_str = 'Peck', new_str = 'Pack'\n",
    "# Output:- 'Peter Piper Picked A Pack Of Pickled Peppers.'"
   ]
  },
  {
   "cell_type": "code",
   "execution_count": 5,
   "id": "1c854a9d",
   "metadata": {},
   "outputs": [
    {
     "name": "stdout",
     "output_type": "stream",
     "text": [
      "Enter sub string: Peck\n",
      " Peter Piper Picked A Pack Of Pickled Peppers.\n"
     ]
    }
   ],
   "source": [
    "my_str=[x for x in ('Peter Piper Picked A Peck Of Pickled Peppers.').split()]\n",
    "sub_str=input(\"Enter sub string: \")\n",
    "new_str = 'Pack'\n",
    "my_new_str=[]\n",
    "final=\"\"\n",
    "if sub_str in my_str:\n",
    "    for eachele in my_str:\n",
    "        if eachele!=sub_str:\n",
    "            my_new_str.append(eachele)\n",
    "        elif eachele==sub_str:\n",
    "            eachele=new_str\n",
    "            my_new_str.append(eachele)\n",
    "\n",
    "    for eachitem in my_new_str:\n",
    "        final=final+\" \"+eachitem\n",
    "    print(final)\n",
    "else:\n",
    "    print(\"sub_str not found\")\n",
    "\n",
    "        \n",
    "    "
   ]
  },
  {
   "cell_type": "code",
   "execution_count": 87,
   "id": "fb0e1c55",
   "metadata": {},
   "outputs": [],
   "source": [
    "# Q. Write a python program to find below output (implements rjust and\n",
    "# ljust) using loop:-\n",
    "# Input:- 'Peter Piper Picked A Peck Of Pickled Peppers.', sub_str =\n",
    "# 'Peck',\n",
    "# Output:- '*********************Peck********************'"
   ]
  },
  {
   "cell_type": "code",
   "execution_count": 288,
   "id": "22c5cd8a",
   "metadata": {},
   "outputs": [
    {
     "name": "stdout",
     "output_type": "stream",
     "text": [
      "*********************Peck********************\n"
     ]
    }
   ],
   "source": [
    "input_str='Peter Piper Picked A Peck Of Pickled Peppers.'\n",
    "newstr=\"\"\n",
    "for eachchar in range(len(input_str)):\n",
    "    if eachchar > 20 and eachchar < 25:\n",
    "        newstr=newstr+input_str[eachchar]\n",
    "    else:\n",
    "        newstr=newstr+'*'\n",
    "print(newstr)"
   ]
  },
  {
   "cell_type": "code",
   "execution_count": 264,
   "id": "03f12859",
   "metadata": {},
   "outputs": [],
   "source": [
    "# Q. Write a python program to find below output using loop:-\n",
    "# Input:- 'This is Python class', sep = ' is',\n",
    "# Output:- ['This', 'is', 'Python class']"
   ]
  },
  {
   "cell_type": "code",
   "execution_count": 93,
   "id": "697647f7",
   "metadata": {},
   "outputs": [
    {
     "name": "stdout",
     "output_type": "stream",
     "text": [
      "['This', ' is ', 'Python Class']\n"
     ]
    }
   ],
   "source": [
    "str_input=[x for x in ('This is Python Class').partition(' is ')]\n",
    "print(str_input)"
   ]
  }
 ],
 "metadata": {
  "kernelspec": {
   "display_name": "Python 3 (ipykernel)",
   "language": "python",
   "name": "python3"
  },
  "language_info": {
   "codemirror_mode": {
    "name": "ipython",
    "version": 3
   },
   "file_extension": ".py",
   "mimetype": "text/x-python",
   "name": "python",
   "nbconvert_exporter": "python",
   "pygments_lexer": "ipython3",
   "version": "3.9.13"
  }
 },
 "nbformat": 4,
 "nbformat_minor": 5
}
