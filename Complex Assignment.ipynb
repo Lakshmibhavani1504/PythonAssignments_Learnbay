{
 "cells": [
  {
   "cell_type": "markdown",
   "id": "5093a72e",
   "metadata": {},
   "source": [
    "#### Q1 Declare a complex number and store it in a variable. Check the type and print the id of the same."
   ]
  },
  {
   "cell_type": "code",
   "execution_count": 1,
   "id": "3e2c73f3",
   "metadata": {},
   "outputs": [
    {
     "name": "stdout",
     "output_type": "stream",
     "text": [
      "<class 'complex'> 2357286802768\n"
     ]
    }
   ],
   "source": [
    "var1=23+46j\n",
    "print(type(var1), id(var1))"
   ]
  },
  {
   "cell_type": "markdown",
   "id": "187b7c72",
   "metadata": {},
   "source": [
    "#### Q2 Arithmetic Operations on complex number\n",
    "Take two different complex numbers.\n",
    "Store them in two different variables.\n",
    "Do below operations on them:-\n",
    "Find sum of both numbers\n",
    "Find difference between them\n",
    "Find the product of both numbers.\n",
    "Find value after dividing first num with second number\n",
    "Find the result of the first num to the power of the second number."
   ]
  },
  {
   "cell_type": "code",
   "execution_count": 2,
   "id": "f9e716c9",
   "metadata": {},
   "outputs": [
    {
     "name": "stdout",
     "output_type": "stream",
     "text": [
      "(12+3j)\n"
     ]
    }
   ],
   "source": [
    "var2=10+2j\n",
    "var3=2+1j\n",
    "print(var2+var3)  #sum"
   ]
  },
  {
   "cell_type": "code",
   "execution_count": 3,
   "id": "bc9b31b8",
   "metadata": {},
   "outputs": [
    {
     "name": "stdout",
     "output_type": "stream",
     "text": [
      "(8+1j)\n"
     ]
    }
   ],
   "source": [
    "print(var2-var3)  #difference"
   ]
  },
  {
   "cell_type": "code",
   "execution_count": 4,
   "id": "d8fa8b8c",
   "metadata": {},
   "outputs": [
    {
     "name": "stdout",
     "output_type": "stream",
     "text": [
      "(18+14j)\n"
     ]
    }
   ],
   "source": [
    "print(var2*var3)  #product"
   ]
  },
  {
   "cell_type": "code",
   "execution_count": 5,
   "id": "4a71dcf7",
   "metadata": {},
   "outputs": [
    {
     "name": "stdout",
     "output_type": "stream",
     "text": [
      "(4.4-1.2j)\n"
     ]
    }
   ],
   "source": [
    "print(var2/var3)  #division"
   ]
  },
  {
   "cell_type": "code",
   "execution_count": 6,
   "id": "168e0bca",
   "metadata": {},
   "outputs": [
    {
     "name": "stdout",
     "output_type": "stream",
     "text": [
      "(-77.7892821218509+35.1692061557909j)\n"
     ]
    }
   ],
   "source": [
    "print(var2**var3)  #power"
   ]
  },
  {
   "cell_type": "markdown",
   "id": "8ffbc5fb",
   "metadata": {},
   "source": [
    "####  Comparison Operation not applicable between instance of complex values. Object reusability concept is not applicable on complex number"
   ]
  },
  {
   "cell_type": "markdown",
   "id": "123cd358",
   "metadata": {},
   "source": [
    "#### Q3 Equality Operator\n",
    "Take two different complex numbers.\n",
    "Store them in two different variables.\n",
    "Equate them using equality operators (==, !=)\n",
    "Observe the output(return type should be boolean)"
   ]
  },
  {
   "cell_type": "code",
   "execution_count": 7,
   "id": "8df0b312",
   "metadata": {},
   "outputs": [
    {
     "name": "stdout",
     "output_type": "stream",
     "text": [
      "False\n"
     ]
    }
   ],
   "source": [
    "var4=20+5j\n",
    "var5=40+10j\n",
    "print(var4==var5)   #equality =="
   ]
  },
  {
   "cell_type": "code",
   "execution_count": 8,
   "id": "f8777bd1",
   "metadata": {},
   "outputs": [
    {
     "name": "stdout",
     "output_type": "stream",
     "text": [
      "True\n"
     ]
    }
   ],
   "source": [
    "print(var4!=var5)   #equality !="
   ]
  },
  {
   "cell_type": "markdown",
   "id": "469bf17a",
   "metadata": {},
   "source": [
    "#### Q4 Logical operators\n",
    "Observe the output of below code\n",
    "Cross check the output manually"
   ]
  },
  {
   "cell_type": "code",
   "execution_count": 9,
   "id": "627fcb6b",
   "metadata": {},
   "outputs": [
    {
     "name": "stdout",
     "output_type": "stream",
     "text": [
      "(20+30j)\n",
      "0j\n",
      "0j\n",
      "0j\n",
      "(10+20j)\n",
      "(20+30j)\n",
      "(20+30j)\n",
      "0j\n",
      "False\n",
      "True\n"
     ]
    }
   ],
   "source": [
    "print(10+20j and 20+30j) #20+30j\n",
    "#----------------------------------------->Output is 20+30j\n",
    "print(0+0j and 20+30j) #0+0j\n",
    "#----------------------------------------->Output is 0j\n",
    "print(20+30j and 0+0j) #0+0j\n",
    "#----------------------------------------->Output is 0j\n",
    "print(0+0j and 0+0j) #0+0j\n",
    "#----------------------------------------->Output is 0j\n",
    "print(10+20j or 20+30j) #10+20j\n",
    "#----------------------------------------->Output is 10+20j\n",
    "print(0+0j or 20+30j) #20+30j\n",
    "#----------------------------------------->Output is 20+30j\n",
    "print(20+30j or 0+0j) #20+30j\n",
    "#----------------------------------------->Output is 20+30j\n",
    "print(0+0j or 0+0j) #0+0j\n",
    "#----------------------------------------->Output is 0j\n",
    "print(not 10+20j) #False\n",
    "#----------------------------------------->Output is False\n",
    "print(not 0+0j) #True\n",
    "#----------------------------------------->Output is True"
   ]
  },
  {
   "cell_type": "markdown",
   "id": "bcd5ff53",
   "metadata": {},
   "source": [
    "#### Q5 What is the output of the expression inside the print statement.\n",
    "Cross check before running the program.\n"
   ]
  },
  {
   "cell_type": "code",
   "execution_count": 10,
   "id": "d914fb32",
   "metadata": {},
   "outputs": [
    {
     "name": "stdout",
     "output_type": "stream",
     "text": [
      "False\n",
      "True\n"
     ]
    }
   ],
   "source": [
    "a = 10+20j\n",
    "b = 10+20j\n",
    "print(a is b) #False #True or False?\n",
    "print(a is not b) #True #True or False?"
   ]
  },
  {
   "cell_type": "markdown",
   "id": "30eb2225",
   "metadata": {},
   "source": [
    "#### Q6. Membership operation in, not in are two membership operators and it returns boolean value\n"
   ]
  },
  {
   "cell_type": "code",
   "execution_count": 11,
   "id": "e002e1b1",
   "metadata": {},
   "outputs": [
    {
     "name": "stdout",
     "output_type": "stream",
     "text": [
      "True\n",
      "True\n",
      "True\n",
      "True\n",
      "True\n",
      "True\n"
     ]
    }
   ],
   "source": [
    "print('2.7' in 'Python2.7.8') #True\n",
    "print(10+20j in [10,10.20,10+20j,'Python']) #True\n",
    "print(10+20j in (10,10.20,10+20j,'Python')) #True\n",
    "print(30+40j in {1,20.30,30+40j}) #True\n",
    "print(30+40j in {1:100, 2.3:200, 30+40j:300}) #True\n",
    "print(10 in range(20))"
   ]
  },
  {
   "cell_type": "code",
   "execution_count": null,
   "id": "1d0bcc1c",
   "metadata": {},
   "outputs": [],
   "source": []
  }
 ],
 "metadata": {
  "kernelspec": {
   "display_name": "Python 3 (ipykernel)",
   "language": "python",
   "name": "python3"
  },
  "language_info": {
   "codemirror_mode": {
    "name": "ipython",
    "version": 3
   },
   "file_extension": ".py",
   "mimetype": "text/x-python",
   "name": "python",
   "nbconvert_exporter": "python",
   "pygments_lexer": "ipython3",
   "version": "3.9.13"
  }
 },
 "nbformat": 4,
 "nbformat_minor": 5
}
