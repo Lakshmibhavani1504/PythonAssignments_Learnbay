{
 "cells": [
  {
   "cell_type": "markdown",
   "id": "f566e893",
   "metadata": {},
   "source": [
    "##### Q1. Declare an int value and store it in a variable.Check the type and print the id of the same."
   ]
  },
  {
   "cell_type": "code",
   "execution_count": 1,
   "id": "5f24b775",
   "metadata": {},
   "outputs": [
    {
     "name": "stdout",
     "output_type": "stream",
     "text": [
      "<class 'int'>\n"
     ]
    }
   ],
   "source": [
    "num=3\n",
    "print(type(num))"
   ]
  },
  {
   "cell_type": "code",
   "execution_count": 2,
   "id": "3216b1bf",
   "metadata": {},
   "outputs": [
    {
     "name": "stdout",
     "output_type": "stream",
     "text": [
      "1495081511280\n"
     ]
    }
   ],
   "source": [
    "print(id(num))"
   ]
  },
  {
   "cell_type": "markdown",
   "id": "e51a02e3",
   "metadata": {},
   "source": [
    "##### Q2. Take one int value between 0 - 256. Assign it to two different variables. Check the id of both the variables. It should come the same. Check why?"
   ]
  },
  {
   "cell_type": "code",
   "execution_count": 6,
   "id": "f205ed0e",
   "metadata": {},
   "outputs": [
    {
     "name": "stdout",
     "output_type": "stream",
     "text": [
      "1495081701424 1495081701424\n"
     ]
    }
   ],
   "source": [
    "num1,num2=55,55\n",
    "print(id(num1),id(num2)) #Memory is same due to interning of int between -5 to 256"
   ]
  },
  {
   "cell_type": "markdown",
   "id": "59d33c55",
   "metadata": {},
   "source": [
    "##### Q3 Take one int value either less than -5 or greater than 256. Assign it to two different variables. Check the id of both the variables. It should come different.Check why?"
   ]
  },
  {
   "cell_type": "code",
   "execution_count": 19,
   "id": "54aabf79",
   "metadata": {},
   "outputs": [],
   "source": [
    "a=-11"
   ]
  },
  {
   "cell_type": "code",
   "execution_count": 20,
   "id": "a331299b",
   "metadata": {},
   "outputs": [],
   "source": [
    "b=-11"
   ]
  },
  {
   "cell_type": "code",
   "execution_count": 21,
   "id": "6b75707c",
   "metadata": {},
   "outputs": [
    {
     "name": "stdout",
     "output_type": "stream",
     "text": [
      "1495164852976\n"
     ]
    }
   ],
   "source": [
    "print(id(a))"
   ]
  },
  {
   "cell_type": "code",
   "execution_count": 22,
   "id": "9c2445ef",
   "metadata": {},
   "outputs": [
    {
     "name": "stdout",
     "output_type": "stream",
     "text": [
      "1495164852080\n"
     ]
    }
   ],
   "source": [
    "print(id(b)) #Memory is different due to interning of int between -5 to 256"
   ]
  },
  {
   "cell_type": "code",
   "execution_count": 23,
   "id": "a5584880",
   "metadata": {},
   "outputs": [],
   "source": [
    "d=500"
   ]
  },
  {
   "cell_type": "code",
   "execution_count": 24,
   "id": "ad6c5577",
   "metadata": {},
   "outputs": [],
   "source": [
    "e=500"
   ]
  },
  {
   "cell_type": "code",
   "execution_count": 25,
   "id": "b5fbbd15",
   "metadata": {},
   "outputs": [
    {
     "name": "stdout",
     "output_type": "stream",
     "text": [
      "1495164853296\n"
     ]
    }
   ],
   "source": [
    "print(id(d))"
   ]
  },
  {
   "cell_type": "code",
   "execution_count": 26,
   "id": "cd035c67",
   "metadata": {},
   "outputs": [
    {
     "name": "stdout",
     "output_type": "stream",
     "text": [
      "1495164853264\n"
     ]
    }
   ],
   "source": [
    "print(id(e))"
   ]
  },
  {
   "cell_type": "code",
   "execution_count": 27,
   "id": "d08a36b7",
   "metadata": {},
   "outputs": [
    {
     "name": "stdout",
     "output_type": "stream",
     "text": [
      "1495164853776 1495164853776\n"
     ]
    }
   ],
   "source": [
    "f,g=2000,2000\n",
    "print(id(f),id(g))  #shouldn't we get different memory ids to f and g???"
   ]
  },
  {
   "cell_type": "markdown",
   "id": "d5c65715",
   "metadata": {},
   "source": [
    "##### Q4: Arithmetic Operations on integers\n",
    "Take two different integer values.Store them in two different variables. Do below operations on them:-\n"
   ]
  },
  {
   "cell_type": "markdown",
   "id": "4830862e",
   "metadata": {},
   "source": [
    "#### Find sum of both numbers"
   ]
  },
  {
   "cell_type": "code",
   "execution_count": 30,
   "id": "e2123a74",
   "metadata": {},
   "outputs": [
    {
     "name": "stdout",
     "output_type": "stream",
     "text": [
      "60\n"
     ]
    }
   ],
   "source": [
    "num3=40\n",
    "num4=20\n",
    "sum=num3+num4\n",
    "print(sum)"
   ]
  },
  {
   "cell_type": "markdown",
   "id": "6f6a9cfd",
   "metadata": {},
   "source": [
    "#### Find difference between them"
   ]
  },
  {
   "cell_type": "code",
   "execution_count": 31,
   "id": "5b76fcb9",
   "metadata": {},
   "outputs": [
    {
     "name": "stdout",
     "output_type": "stream",
     "text": [
      "20\n"
     ]
    }
   ],
   "source": [
    "diff=num3-num4\n",
    "print(diff)"
   ]
  },
  {
   "cell_type": "markdown",
   "id": "f3fd7ad7",
   "metadata": {},
   "source": [
    "#### Find the product of both numbers"
   ]
  },
  {
   "cell_type": "code",
   "execution_count": 32,
   "id": "137428ae",
   "metadata": {},
   "outputs": [
    {
     "name": "stdout",
     "output_type": "stream",
     "text": [
      "800\n"
     ]
    }
   ],
   "source": [
    "prod=num3*num4\n",
    "print(prod)"
   ]
  },
  {
   "cell_type": "markdown",
   "id": "2f8849a4",
   "metadata": {},
   "source": [
    "#### Find value after dividing first num with second number"
   ]
  },
  {
   "cell_type": "code",
   "execution_count": 33,
   "id": "845112e6",
   "metadata": {},
   "outputs": [
    {
     "name": "stdout",
     "output_type": "stream",
     "text": [
      "2.0\n"
     ]
    }
   ],
   "source": [
    "div=num3/num4\n",
    "print(div)"
   ]
  },
  {
   "cell_type": "markdown",
   "id": "d440bb57",
   "metadata": {},
   "source": [
    "#### Find the remainder after dividing first number with second number"
   ]
  },
  {
   "cell_type": "code",
   "execution_count": 34,
   "id": "98e79e81",
   "metadata": {},
   "outputs": [
    {
     "name": "stdout",
     "output_type": "stream",
     "text": [
      "0\n"
     ]
    }
   ],
   "source": [
    "rem=num3%num4\n",
    "print(rem)"
   ]
  },
  {
   "cell_type": "markdown",
   "id": "0e4df6e5",
   "metadata": {},
   "source": [
    "#### Find the quotient after dividing first number with second number"
   ]
  },
  {
   "cell_type": "code",
   "execution_count": 35,
   "id": "64adfd04",
   "metadata": {},
   "outputs": [
    {
     "name": "stdout",
     "output_type": "stream",
     "text": [
      "2\n"
     ]
    }
   ],
   "source": [
    "quo=num3//num4\n",
    "print(quo)"
   ]
  },
  {
   "cell_type": "markdown",
   "id": "f2536d06",
   "metadata": {},
   "source": [
    "#### Find the result of the first num to the power of the second number."
   ]
  },
  {
   "cell_type": "code",
   "execution_count": 36,
   "id": "d4d9a6f8",
   "metadata": {},
   "outputs": [
    {
     "name": "stdout",
     "output_type": "stream",
     "text": [
      "109951162777600000000000000000000\n"
     ]
    }
   ],
   "source": [
    "power=num3**num4\n",
    "print(power)"
   ]
  },
  {
   "cell_type": "markdown",
   "id": "25418bb3",
   "metadata": {},
   "source": [
    "##### Q5. Comparison Operators on integers\n",
    "Take two different integer values.\n",
    "Store them in two different variables.\n",
    "Do below operations on them:-\n",
    "Compare se two numbers with below operator:-"
   ]
  },
  {
   "cell_type": "code",
   "execution_count": 37,
   "id": "a5f9d90e",
   "metadata": {},
   "outputs": [],
   "source": [
    "num5=45\n",
    "num6=56"
   ]
  },
  {
   "cell_type": "markdown",
   "id": "f81b9c41",
   "metadata": {},
   "source": [
    "##### Greater than, '>'"
   ]
  },
  {
   "cell_type": "code",
   "execution_count": 38,
   "id": "99c92789",
   "metadata": {},
   "outputs": [
    {
     "data": {
      "text/plain": [
       "False"
      ]
     },
     "execution_count": 38,
     "metadata": {},
     "output_type": "execute_result"
    }
   ],
   "source": [
    "num5>num6"
   ]
  },
  {
   "cell_type": "markdown",
   "id": "fee8e372",
   "metadata": {},
   "source": [
    "##### Smaller than, '<'"
   ]
  },
  {
   "cell_type": "code",
   "execution_count": 39,
   "id": "19ea3271",
   "metadata": {},
   "outputs": [
    {
     "data": {
      "text/plain": [
       "True"
      ]
     },
     "execution_count": 39,
     "metadata": {},
     "output_type": "execute_result"
    }
   ],
   "source": [
    "num5<num6"
   ]
  },
  {
   "cell_type": "markdown",
   "id": "89a0e172",
   "metadata": {},
   "source": [
    "#### Greater than or equal to, '>='"
   ]
  },
  {
   "cell_type": "code",
   "execution_count": 40,
   "id": "556ff435",
   "metadata": {},
   "outputs": [
    {
     "data": {
      "text/plain": [
       "False"
      ]
     },
     "execution_count": 40,
     "metadata": {},
     "output_type": "execute_result"
    }
   ],
   "source": [
    "num5>=num6"
   ]
  },
  {
   "cell_type": "markdown",
   "id": "4c155ba6",
   "metadata": {},
   "source": [
    "##### Less than or equal to, '<='"
   ]
  },
  {
   "cell_type": "code",
   "execution_count": 41,
   "id": "32113db7",
   "metadata": {},
   "outputs": [
    {
     "data": {
      "text/plain": [
       "True"
      ]
     },
     "execution_count": 41,
     "metadata": {},
     "output_type": "execute_result"
    }
   ],
   "source": [
    "num5<=num6"
   ]
  },
  {
   "cell_type": "markdown",
   "id": "f29480bf",
   "metadata": {},
   "source": [
    "##### Q6. Equality Operator\n",
    "Take two different integer values.\n",
    "Store them in two different variables.\n",
    "Equate them using equality operators (==, !=)\n",
    "Observe the output(return type should be boolean)"
   ]
  },
  {
   "cell_type": "code",
   "execution_count": 42,
   "id": "88b6c91f",
   "metadata": {},
   "outputs": [],
   "source": [
    "num7=22\n",
    "num8=44"
   ]
  },
  {
   "cell_type": "code",
   "execution_count": 43,
   "id": "88f72add",
   "metadata": {},
   "outputs": [
    {
     "data": {
      "text/plain": [
       "False"
      ]
     },
     "execution_count": 43,
     "metadata": {},
     "output_type": "execute_result"
    }
   ],
   "source": [
    "num7==num8"
   ]
  },
  {
   "cell_type": "code",
   "execution_count": 44,
   "id": "042137b6",
   "metadata": {},
   "outputs": [
    {
     "data": {
      "text/plain": [
       "True"
      ]
     },
     "execution_count": 44,
     "metadata": {},
     "output_type": "execute_result"
    }
   ],
   "source": [
    "num7!=num8"
   ]
  },
  {
   "cell_type": "markdown",
   "id": "6a59e2c7",
   "metadata": {},
   "source": [
    "##### Q7. Logical operators\n",
    "Observe the output of below codeCross check the output manually"
   ]
  },
  {
   "cell_type": "code",
   "execution_count": 48,
   "id": "5727c3ac",
   "metadata": {},
   "outputs": [
    {
     "name": "stdout",
     "output_type": "stream",
     "text": [
      "20\n",
      "0\n",
      "0\n",
      "0\n",
      "10\n",
      "20\n",
      "20\n",
      "0\n",
      "False\n",
      "True\n"
     ]
    }
   ],
   "source": [
    "\n",
    "print(10 and 20)\n",
    "#----------------------------------------->Output is 20\n",
    "print(0 and 20)\n",
    "#----------------------------------------->Output is 0\n",
    "print(20 and 0)\n",
    "#----------------------------------------->Output is 0\n",
    "print(0 and 0)\n",
    "#----------------------------------------->Output is 0\n",
    "print(10 or 20)\n",
    "#----------------------------------------->Output is 10\n",
    "print(0 or 20)\n",
    "#----------------------------------------->Output is 20\n",
    "print(20 or 0)\n",
    "#----------------------------------------->Output is 20\n",
    "print(0 or 0)\n",
    "#----------------------------------------->Output is 0\n",
    "print(not 10)\n",
    "#----------------------------------------->Output is False\n",
    "print(not 0)\n",
    "#----------------------------------------->Output is True"
   ]
  },
  {
   "cell_type": "markdown",
   "id": "85ed8b13",
   "metadata": {},
   "source": [
    "Logical AND\n",
    "true and true - 2nd operand true\n",
    "true and false - 2nd operand false\n",
    "false and true - 1st operand false\n",
    "false and false - 1st operand false\n",
    "\n",
    "Logical OR\n",
    "true or true - 1st operand true\n",
    "true or false - 1st operand true\n",
    "false or true -2nd oeprand true\n",
    "false or false- 2nd operand false"
   ]
  },
  {
   "cell_type": "markdown",
   "id": "f60eb72d",
   "metadata": {},
   "source": [
    "##### Q8. Bitwise Operators\n",
    "#Do below operations on the values provided below:-\n"
   ]
  },
  {
   "cell_type": "markdown",
   "id": "af5bb4b2",
   "metadata": {},
   "source": [
    "Bitwise and(&) -----------------------------------------> 10, 20\n",
    "-------> Output is 0\n",
    "Bitwise or(|) -----------------------------------------> 10, 20\n",
    "-------> Output is 30\n",
    "Bitwise(^) -----------------------------------------> 10, 20\n",
    "-------> Output is 30\n",
    "Bitwise negation(~) ------------------------------------> 10\n",
    "-------> Output is -11\n",
    "Bitwise left shift ------------------------------------> 10,2\n",
    "-------> Output is 40\n",
    "Bitwise right shift ------------------------------------> 10,2\n",
    "-------> Output is 2\n",
    "Cross check the output manually"
   ]
  },
  {
   "cell_type": "code",
   "execution_count": 50,
   "id": "3160a064",
   "metadata": {},
   "outputs": [
    {
     "data": {
      "text/plain": [
       "'0b1010'"
      ]
     },
     "execution_count": 50,
     "metadata": {},
     "output_type": "execute_result"
    }
   ],
   "source": [
    "bin(10)"
   ]
  },
  {
   "cell_type": "code",
   "execution_count": 51,
   "id": "3b77c7a9",
   "metadata": {},
   "outputs": [
    {
     "data": {
      "text/plain": [
       "'0b10100'"
      ]
     },
     "execution_count": 51,
     "metadata": {},
     "output_type": "execute_result"
    }
   ],
   "source": [
    "bin(20)"
   ]
  },
  {
   "cell_type": "code",
   "execution_count": 55,
   "id": "a56876be",
   "metadata": {},
   "outputs": [
    {
     "data": {
      "text/plain": [
       "0"
      ]
     },
     "execution_count": 55,
     "metadata": {},
     "output_type": "execute_result"
    }
   ],
   "source": [
    "10 & 20 #Manual check it is 0"
   ]
  },
  {
   "cell_type": "code",
   "execution_count": 56,
   "id": "65b47f7a",
   "metadata": {},
   "outputs": [
    {
     "data": {
      "text/plain": [
       "30"
      ]
     },
     "execution_count": 56,
     "metadata": {},
     "output_type": "execute_result"
    }
   ],
   "source": [
    "10 | 20 #Manual check it is 11110"
   ]
  },
  {
   "cell_type": "code",
   "execution_count": 54,
   "id": "da129155",
   "metadata": {},
   "outputs": [
    {
     "data": {
      "text/plain": [
       "'0b11110'"
      ]
     },
     "execution_count": 54,
     "metadata": {},
     "output_type": "execute_result"
    }
   ],
   "source": [
    "bin(30)"
   ]
  },
  {
   "cell_type": "code",
   "execution_count": 57,
   "id": "04f25b50",
   "metadata": {},
   "outputs": [
    {
     "data": {
      "text/plain": [
       "30"
      ]
     },
     "execution_count": 57,
     "metadata": {},
     "output_type": "execute_result"
    }
   ],
   "source": [
    "10 ^ 20 ##XOR Manual check it is 11110"
   ]
  },
  {
   "cell_type": "code",
   "execution_count": 58,
   "id": "96652128",
   "metadata": {},
   "outputs": [
    {
     "data": {
      "text/plain": [
       "'0b11110'"
      ]
     },
     "execution_count": 58,
     "metadata": {},
     "output_type": "execute_result"
    }
   ],
   "source": [
    "bin(30)"
   ]
  },
  {
   "cell_type": "code",
   "execution_count": 59,
   "id": "76a00394",
   "metadata": {},
   "outputs": [
    {
     "data": {
      "text/plain": [
       "-11"
      ]
     },
     "execution_count": 59,
     "metadata": {},
     "output_type": "execute_result"
    }
   ],
   "source": [
    "~10 #-(x+1) "
   ]
  },
  {
   "cell_type": "code",
   "execution_count": 60,
   "id": "497ae758",
   "metadata": {},
   "outputs": [
    {
     "data": {
      "text/plain": [
       "40"
      ]
     },
     "execution_count": 60,
     "metadata": {},
     "output_type": "execute_result"
    }
   ],
   "source": [
    "10<<2"
   ]
  },
  {
   "cell_type": "code",
   "execution_count": 61,
   "id": "b59e55df",
   "metadata": {},
   "outputs": [
    {
     "data": {
      "text/plain": [
       "'0b1010'"
      ]
     },
     "execution_count": 61,
     "metadata": {},
     "output_type": "execute_result"
    }
   ],
   "source": [
    "bin(10)"
   ]
  },
  {
   "cell_type": "code",
   "execution_count": 65,
   "id": "f5b6116b",
   "metadata": {},
   "outputs": [
    {
     "data": {
      "text/plain": [
       "40"
      ]
     },
     "execution_count": 65,
     "metadata": {},
     "output_type": "execute_result"
    }
   ],
   "source": [
    "int(0b101000) #left shift to 2 places and right is appended with 2 zeros"
   ]
  },
  {
   "cell_type": "code",
   "execution_count": 66,
   "id": "92cb0329",
   "metadata": {},
   "outputs": [
    {
     "data": {
      "text/plain": [
       "2"
      ]
     },
     "execution_count": 66,
     "metadata": {},
     "output_type": "execute_result"
    }
   ],
   "source": [
    "10>>2"
   ]
  },
  {
   "cell_type": "code",
   "execution_count": 74,
   "id": "6b371244",
   "metadata": {},
   "outputs": [
    {
     "data": {
      "text/plain": [
       "2"
      ]
     },
     "execution_count": 74,
     "metadata": {},
     "output_type": "execute_result"
    }
   ],
   "source": [
    "int(0b0010)"
   ]
  },
  {
   "cell_type": "markdown",
   "id": "f1c10b23",
   "metadata": {},
   "source": [
    "#### Q9 What is the output of expression inside print statement. Cross check\n",
    "#before running the program.\n",
    "\n",
    "a = 10\n",
    "b = 10\n",
    "print(a is b) #True or False?  # True- is checks if memory address is same and 10 is within interning range for int\n",
    "print(a is not b) # False"
   ]
  },
  {
   "cell_type": "code",
   "execution_count": 70,
   "id": "5d288262",
   "metadata": {},
   "outputs": [
    {
     "name": "stdout",
     "output_type": "stream",
     "text": [
      "False\n",
      "True\n"
     ]
    }
   ],
   "source": [
    "a = 1000\n",
    "b = 1000\n",
    "print(a is b) #True or False? --#  False - is checks if memory address is same or not and this is 1000 which is not in interning range for int\n",
    "print(a is not b) #True or False? --True"
   ]
  },
  {
   "cell_type": "markdown",
   "id": "02104690",
   "metadata": {},
   "source": [
    "#### Q10. What is the output of expression inside print statement. Cross check before running the program.\n",
    "print(10+(10*32)//2**5&20+(~(-10))<<2)                 ##### output--->  10+320//2**5&20+9<<2\n",
    "                                                                    10+320//32&20+9<<2\n",
    "                                                                    10+10&20+9<<2\n",
    "                                                                    20&29<<2\n",
    "                                                                    20&116\n",
    "                                                                    20\n",
    "                                                                  \n",
    "() Parenthesis\n",
    "** Exponentiation\n",
    "-,~ Unary minus, Bitwise complement\n",
    " *,/,//,% Multiplication, Division, Floor division, Modulus\n",
    "+,- Addition, Subtraction\n",
    " <<,>> Bitwise left shift, Bitwise right shift\n",
    " & Bitwise AND\n",
    " ^ Bitwise XOR\n",
    " | Bitwise OR\n",
    " >,>=,<,<=,==,!= Relational (comparison) operators\n",
    " =,%=,/=,//=,-=, +=,*=,**= Assignment operators\n",
    " is,is not Identity operators\n",
    " in,not in Membership operators\n",
    " not Logical not\n",
    " or Logical or\n",
    " and Logical and16"
   ]
  },
  {
   "cell_type": "code",
   "execution_count": 75,
   "id": "b5fbbfd1",
   "metadata": {},
   "outputs": [
    {
     "name": "stdout",
     "output_type": "stream",
     "text": [
      "20\n"
     ]
    }
   ],
   "source": [
    "print(10+(10*32)//2**5&20+(~(-10))<<2)"
   ]
  },
  {
   "cell_type": "markdown",
   "id": "72c65b88",
   "metadata": {},
   "source": [
    "##### Q11. Membership operation\n",
    "in, not in are two membership operators and it returns boolean value\n",
    "print('2' in 'Python2.7.8')\n",
    "print(10 in [10,10.20,10+20j,'Python'])\n",
    "print(10 in (10,10.20,10+20j,'Python'))\n",
    "print(2 in {1,2,3})\n",
    "print(3 in {1:100, 2:200, 3:300})\n",
    "print(10 in range(20))"
   ]
  },
  {
   "cell_type": "code",
   "execution_count": 76,
   "id": "8a5862a7",
   "metadata": {},
   "outputs": [
    {
     "name": "stdout",
     "output_type": "stream",
     "text": [
      "True\n",
      "True\n",
      "True\n",
      "True\n",
      "True\n",
      "True\n"
     ]
    }
   ],
   "source": [
    "print('2' in 'Python2.7.8') #True\n",
    "print(10 in [10,10.20,10+20j,'Python']) #True\n",
    "print(10 in (10,10.20,10+20j,'Python')) #True\n",
    "print(2 in {1,2,3})  #true\n",
    "print(3 in {1:100, 2:200, 3:300}) #True\n",
    "print(10 in range(20)) #True"
   ]
  },
  {
   "cell_type": "markdown",
   "id": "e0ea9b7f",
   "metadata": {},
   "source": [
    "#### Q12- Q. An integer can be represented in binary, octal or hexadecimal form.\n",
    "Declare one binary, one octal and one hexadecimal value and store them\n",
    "in three different variables.\n",
    "Convert 9876 to its binary, octal and hexadecimal equivalent and print\n",
    "their corresponding value."
   ]
  },
  {
   "cell_type": "code",
   "execution_count": 85,
   "id": "7687022b",
   "metadata": {},
   "outputs": [],
   "source": [
    "num9=0b0110\n",
    "num10=0o7752\n",
    "num11=0xAF11\n",
    "num12=9876"
   ]
  },
  {
   "cell_type": "code",
   "execution_count": 86,
   "id": "3263fd1b",
   "metadata": {},
   "outputs": [
    {
     "name": "stdout",
     "output_type": "stream",
     "text": [
      "0b10011010010100\n"
     ]
    }
   ],
   "source": [
    "print(bin(num12)) #Binary equivalent"
   ]
  },
  {
   "cell_type": "code",
   "execution_count": 87,
   "id": "40aff53c",
   "metadata": {},
   "outputs": [
    {
     "name": "stdout",
     "output_type": "stream",
     "text": [
      "0o23224\n"
     ]
    }
   ],
   "source": [
    "print(oct(num12)) #Octal Equivalent"
   ]
  },
  {
   "cell_type": "code",
   "execution_count": 88,
   "id": "dcc5f8a1",
   "metadata": {},
   "outputs": [
    {
     "name": "stdout",
     "output_type": "stream",
     "text": [
      "0x2694\n"
     ]
    }
   ],
   "source": [
    "print(hex(num12)) #Hexadecimal Equivalent"
   ]
  },
  {
   "cell_type": "markdown",
   "id": "5b1eb862",
   "metadata": {},
   "source": [
    "#### Q13 -Q. What will be the output of following:-\n",
    "a = 0b1010000\n",
    "print(a)\n",
    "b = 0o7436\n",
    "print(b)\n",
    "c = 0xfade\n",
    "print(c)\n",
    "print(bin(80))\n",
    "\n",
    "print(oct(3870))\n",
    "print(hex(64222))\n",
    "print(bin(0b1010000))\n",
    "print(bin(0xfade))\n",
    "print(oct(0xfade))\n",
    "print(oct(0o7436))\n",
    "print(hex(0b1010000))\n",
    "print(hex(0xfade))"
   ]
  },
  {
   "cell_type": "code",
   "execution_count": 89,
   "id": "cbffa790",
   "metadata": {},
   "outputs": [
    {
     "name": "stdout",
     "output_type": "stream",
     "text": [
      "80\n"
     ]
    }
   ],
   "source": [
    "a = 0b1010000  #80\n",
    "print(a)\n"
   ]
  },
  {
   "cell_type": "code",
   "execution_count": 91,
   "id": "1b941c81",
   "metadata": {},
   "outputs": [
    {
     "name": "stdout",
     "output_type": "stream",
     "text": [
      "3870\n",
      "64222\n",
      "0b1010000\n",
      "0o7436\n",
      "0xfade\n",
      "0b1010000\n",
      "0b1111101011011110\n",
      "0o175336\n",
      "0o7436\n",
      "0x50\n",
      "0xfade\n"
     ]
    }
   ],
   "source": [
    "b = 0o7436 \n",
    "print(b)\n",
    "c = 0xfade\n",
    "print(c)\n",
    "print(bin(80))  #0b1010000\n",
    "print(oct(3870))  #0o7436\n",
    "print(hex(64222))  #0xfade\n",
    "print(bin(0b1010000))  #0b1010000\n",
    "print(bin(0xfade))\n",
    "print(oct(0xfade))\n",
    "print(oct(0o7436))  #0o7436\n",
    "print(hex(0b1010000)) \n",
    "print(hex(0xfade))  #0xfade"
   ]
  },
  {
   "cell_type": "code",
   "execution_count": null,
   "id": "518ee93d",
   "metadata": {},
   "outputs": [],
   "source": []
  }
 ],
 "metadata": {
  "kernelspec": {
   "display_name": "Python 3 (ipykernel)",
   "language": "python",
   "name": "python3"
  },
  "language_info": {
   "codemirror_mode": {
    "name": "ipython",
    "version": 3
   },
   "file_extension": ".py",
   "mimetype": "text/x-python",
   "name": "python",
   "nbconvert_exporter": "python",
   "pygments_lexer": "ipython3",
   "version": "3.9.13"
  }
 },
 "nbformat": 4,
 "nbformat_minor": 5
}
